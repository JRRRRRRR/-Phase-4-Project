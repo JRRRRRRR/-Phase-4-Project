{
 "cells": [
  {
   "cell_type": "markdown",
   "metadata": {},
   "source": [
    "# Phase 4 Project"
   ]
  },
  {
   "cell_type": "code",
   "execution_count": 1,
   "metadata": {},
   "outputs": [],
   "source": [
    "# Name: Jiarong Chen\n",
    "# Contact info: jiarong.chen.1@alumni.stonybrook.edu"
   ]
  },
  {
   "cell_type": "markdown",
   "metadata": {},
   "source": [
    "Business problems: Using the movie lens 100k data to analyze the movies’ rating and make a movie recommendation system."
   ]
  },
  {
   "cell_type": "markdown",
   "metadata": {},
   "source": [
    "### Outline\n",
    "Best Rating Movie\n",
    "* Count the total movie rating and rating times\n",
    "* Sort the movies by mean rating\n",
    "* Determine the best movie base on mean rating and rating times"
   ]
  },
  {
   "cell_type": "markdown",
   "metadata": {},
   "source": [
    "Best Movie Genre\n",
    "* Build a genre data frame for all movies\n",
    "* Fill the genre data frame with total rating and rating times\n",
    "* Sort the genre data frame and determine the best one"
   ]
  },
  {
   "cell_type": "markdown",
   "metadata": {},
   "source": [
    "Recommendation System\n",
    "* Train a suitable algorithm\n",
    "* Tune hyper parameter for this model\n",
    "* Build a recommendation system"
   ]
  },
  {
   "cell_type": "markdown",
   "metadata": {},
   "source": [
    "# Import data and Preview"
   ]
  },
  {
   "cell_type": "code",
   "execution_count": 1,
   "metadata": {},
   "outputs": [],
   "source": [
    "# Importing relevant libraries\n",
    "import pandas as pd\n",
    "import numpy as np\n",
    "import matplotlib.pyplot as plt\n",
    "import seaborn as sns\n",
    "%matplotlib inline"
   ]
  },
  {
   "cell_type": "code",
   "execution_count": 2,
   "metadata": {},
   "outputs": [
    {
     "name": "stdout",
     "output_type": "stream",
     "text": [
      "<class 'pandas.core.frame.DataFrame'>\n",
      "RangeIndex: 100004 entries, 0 to 100003\n",
      "Data columns (total 4 columns):\n",
      " #   Column     Non-Null Count   Dtype  \n",
      "---  ------     --------------   -----  \n",
      " 0   userId     100004 non-null  int64  \n",
      " 1   movieId    100004 non-null  int64  \n",
      " 2   rating     100004 non-null  float64\n",
      " 3   timestamp  100004 non-null  int64  \n",
      "dtypes: float64(1), int64(3)\n",
      "memory usage: 3.1 MB\n"
     ]
    }
   ],
   "source": [
    "ratings = pd.read_csv('data/ratings.csv')\n",
    "ratings.info()"
   ]
  },
  {
   "cell_type": "code",
   "execution_count": 3,
   "metadata": {},
   "outputs": [
    {
     "name": "stdout",
     "output_type": "stream",
     "text": [
      "<class 'pandas.core.frame.DataFrame'>\n",
      "RangeIndex: 9125 entries, 0 to 9124\n",
      "Data columns (total 3 columns):\n",
      " #   Column   Non-Null Count  Dtype \n",
      "---  ------   --------------  ----- \n",
      " 0   movieId  9125 non-null   int64 \n",
      " 1   title    9125 non-null   object\n",
      " 2   genres   9125 non-null   object\n",
      "dtypes: int64(1), object(2)\n",
      "memory usage: 214.0+ KB\n"
     ]
    }
   ],
   "source": [
    "movies = pd.read_csv('data/movies.csv')\n",
    "movies.info()"
   ]
  },
  {
   "cell_type": "code",
   "execution_count": 4,
   "metadata": {},
   "outputs": [
    {
     "name": "stdout",
     "output_type": "stream",
     "text": [
      "No. of Unique Movies    : 9066\n",
      "No. of Unique Ratings  : 10\n"
     ]
    }
   ],
   "source": [
    "# Drop unnecessary columns\n",
    "ratings.drop(columns=['userId', 'timestamp'], inplace=True)\n",
    "print('No. of Unique Movies    :', ratings['movieId'].nunique())\n",
    "print('No. of Unique Ratings  :', ratings['rating'].nunique())"
   ]
  },
  {
   "cell_type": "code",
   "execution_count": 5,
   "metadata": {},
   "outputs": [
    {
     "data": {
      "text/html": [
       "<div>\n",
       "<style scoped>\n",
       "    .dataframe tbody tr th:only-of-type {\n",
       "        vertical-align: middle;\n",
       "    }\n",
       "\n",
       "    .dataframe tbody tr th {\n",
       "        vertical-align: top;\n",
       "    }\n",
       "\n",
       "    .dataframe thead th {\n",
       "        text-align: right;\n",
       "    }\n",
       "</style>\n",
       "<table border=\"1\" class=\"dataframe\">\n",
       "  <thead>\n",
       "    <tr style=\"text-align: right;\">\n",
       "      <th></th>\n",
       "      <th>movieId</th>\n",
       "      <th>rating</th>\n",
       "    </tr>\n",
       "  </thead>\n",
       "  <tbody>\n",
       "    <tr>\n",
       "      <th>count</th>\n",
       "      <td>100004.000000</td>\n",
       "      <td>100004.000000</td>\n",
       "    </tr>\n",
       "    <tr>\n",
       "      <th>mean</th>\n",
       "      <td>12548.664363</td>\n",
       "      <td>3.543608</td>\n",
       "    </tr>\n",
       "    <tr>\n",
       "      <th>std</th>\n",
       "      <td>26369.198969</td>\n",
       "      <td>1.058064</td>\n",
       "    </tr>\n",
       "    <tr>\n",
       "      <th>min</th>\n",
       "      <td>1.000000</td>\n",
       "      <td>0.500000</td>\n",
       "    </tr>\n",
       "    <tr>\n",
       "      <th>25%</th>\n",
       "      <td>1028.000000</td>\n",
       "      <td>3.000000</td>\n",
       "    </tr>\n",
       "    <tr>\n",
       "      <th>50%</th>\n",
       "      <td>2406.500000</td>\n",
       "      <td>4.000000</td>\n",
       "    </tr>\n",
       "    <tr>\n",
       "      <th>75%</th>\n",
       "      <td>5418.000000</td>\n",
       "      <td>4.000000</td>\n",
       "    </tr>\n",
       "    <tr>\n",
       "      <th>max</th>\n",
       "      <td>163949.000000</td>\n",
       "      <td>5.000000</td>\n",
       "    </tr>\n",
       "  </tbody>\n",
       "</table>\n",
       "</div>"
      ],
      "text/plain": [
       "             movieId         rating\n",
       "count  100004.000000  100004.000000\n",
       "mean    12548.664363       3.543608\n",
       "std     26369.198969       1.058064\n",
       "min         1.000000       0.500000\n",
       "25%      1028.000000       3.000000\n",
       "50%      2406.500000       4.000000\n",
       "75%      5418.000000       4.000000\n",
       "max    163949.000000       5.000000"
      ]
     },
     "execution_count": 5,
     "metadata": {},
     "output_type": "execute_result"
    }
   ],
   "source": [
    "ratings.describe()"
   ]
  },
  {
   "cell_type": "markdown",
   "metadata": {},
   "source": [
    "# Movie Rating Table"
   ]
  },
  {
   "cell_type": "markdown",
   "metadata": {},
   "source": [
    "Only the movies with rating times over 10 are qualify for the best movie standard."
   ]
  },
  {
   "cell_type": "code",
   "execution_count": 6,
   "metadata": {},
   "outputs": [],
   "source": [
    "ratings['rating_times'] = None\n",
    "ratings = ratings.fillna(1)"
   ]
  },
  {
   "cell_type": "code",
   "execution_count": 7,
   "metadata": {},
   "outputs": [
    {
     "data": {
      "text/html": [
       "<div>\n",
       "<style scoped>\n",
       "    .dataframe tbody tr th:only-of-type {\n",
       "        vertical-align: middle;\n",
       "    }\n",
       "\n",
       "    .dataframe tbody tr th {\n",
       "        vertical-align: top;\n",
       "    }\n",
       "\n",
       "    .dataframe thead th {\n",
       "        text-align: right;\n",
       "    }\n",
       "</style>\n",
       "<table border=\"1\" class=\"dataframe\">\n",
       "  <thead>\n",
       "    <tr style=\"text-align: right;\">\n",
       "      <th></th>\n",
       "      <th>rating</th>\n",
       "      <th>rating_times</th>\n",
       "    </tr>\n",
       "    <tr>\n",
       "      <th>movieId</th>\n",
       "      <th></th>\n",
       "      <th></th>\n",
       "    </tr>\n",
       "  </thead>\n",
       "  <tbody>\n",
       "    <tr>\n",
       "      <th>1</th>\n",
       "      <td>3.872470</td>\n",
       "      <td>247</td>\n",
       "    </tr>\n",
       "    <tr>\n",
       "      <th>2</th>\n",
       "      <td>3.401869</td>\n",
       "      <td>107</td>\n",
       "    </tr>\n",
       "    <tr>\n",
       "      <th>3</th>\n",
       "      <td>3.161017</td>\n",
       "      <td>59</td>\n",
       "    </tr>\n",
       "    <tr>\n",
       "      <th>4</th>\n",
       "      <td>2.384615</td>\n",
       "      <td>13</td>\n",
       "    </tr>\n",
       "    <tr>\n",
       "      <th>5</th>\n",
       "      <td>3.267857</td>\n",
       "      <td>56</td>\n",
       "    </tr>\n",
       "  </tbody>\n",
       "</table>\n",
       "</div>"
      ],
      "text/plain": [
       "           rating  rating_times\n",
       "movieId                        \n",
       "1        3.872470           247\n",
       "2        3.401869           107\n",
       "3        3.161017            59\n",
       "4        2.384615            13\n",
       "5        3.267857            56"
      ]
     },
     "execution_count": 7,
     "metadata": {},
     "output_type": "execute_result"
    }
   ],
   "source": [
    "rating_movie = ratings.groupby('movieId').sum()\n",
    "# Remove some movie rating times under 11\n",
    "rating_movie = rating_movie.loc[rating_movie['rating_times']>10] \n",
    "# Take the mean rating for each movie\n",
    "rating_movie['rating'] = rating_movie['rating'] / rating_movie['rating_times']\n",
    "rating_movie.head()"
   ]
  },
  {
   "cell_type": "code",
   "execution_count": 8,
   "metadata": {},
   "outputs": [],
   "source": [
    "rating_sorted = rating_movie.sort_values('rating', ascending=False)[:10]"
   ]
  },
  {
   "cell_type": "code",
   "execution_count": 9,
   "metadata": {},
   "outputs": [],
   "source": [
    "# Join the rating table with movie table\n",
    "rating_final = rating_sorted.join(movies.set_index('movieId'), how='left')"
   ]
  },
  {
   "cell_type": "code",
   "execution_count": 10,
   "metadata": {},
   "outputs": [
    {
     "data": {
      "text/html": [
       "<div>\n",
       "<style scoped>\n",
       "    .dataframe tbody tr th:only-of-type {\n",
       "        vertical-align: middle;\n",
       "    }\n",
       "\n",
       "    .dataframe tbody tr th {\n",
       "        vertical-align: top;\n",
       "    }\n",
       "\n",
       "    .dataframe thead th {\n",
       "        text-align: right;\n",
       "    }\n",
       "</style>\n",
       "<table border=\"1\" class=\"dataframe\">\n",
       "  <thead>\n",
       "    <tr style=\"text-align: right;\">\n",
       "      <th></th>\n",
       "      <th>rating</th>\n",
       "      <th>rating_times</th>\n",
       "      <th>title</th>\n",
       "      <th>genres</th>\n",
       "    </tr>\n",
       "    <tr>\n",
       "      <th>movieId</th>\n",
       "      <th></th>\n",
       "      <th></th>\n",
       "      <th></th>\n",
       "      <th></th>\n",
       "    </tr>\n",
       "  </thead>\n",
       "  <tbody>\n",
       "    <tr>\n",
       "      <th>1939</th>\n",
       "      <td>4.636364</td>\n",
       "      <td>11</td>\n",
       "      <td>Best Years of Our Lives, The (1946)</td>\n",
       "      <td>Drama|War</td>\n",
       "    </tr>\n",
       "    <tr>\n",
       "      <th>3469</th>\n",
       "      <td>4.541667</td>\n",
       "      <td>12</td>\n",
       "      <td>Inherit the Wind (1960)</td>\n",
       "      <td>Drama</td>\n",
       "    </tr>\n",
       "    <tr>\n",
       "      <th>858</th>\n",
       "      <td>4.487500</td>\n",
       "      <td>200</td>\n",
       "      <td>Godfather, The (1972)</td>\n",
       "      <td>Crime|Drama</td>\n",
       "    </tr>\n",
       "    <tr>\n",
       "      <th>318</th>\n",
       "      <td>4.487138</td>\n",
       "      <td>311</td>\n",
       "      <td>Shawshank Redemption, The (1994)</td>\n",
       "      <td>Crime|Drama</td>\n",
       "    </tr>\n",
       "    <tr>\n",
       "      <th>1948</th>\n",
       "      <td>4.458333</td>\n",
       "      <td>12</td>\n",
       "      <td>Tom Jones (1963)</td>\n",
       "      <td>Adventure|Comedy|Romance</td>\n",
       "    </tr>\n",
       "    <tr>\n",
       "      <th>8132</th>\n",
       "      <td>4.454545</td>\n",
       "      <td>11</td>\n",
       "      <td>Gladiator (1992)</td>\n",
       "      <td>Action|Drama</td>\n",
       "    </tr>\n",
       "    <tr>\n",
       "      <th>1945</th>\n",
       "      <td>4.448276</td>\n",
       "      <td>29</td>\n",
       "      <td>On the Waterfront (1954)</td>\n",
       "      <td>Crime|Drama</td>\n",
       "    </tr>\n",
       "    <tr>\n",
       "      <th>1147</th>\n",
       "      <td>4.437500</td>\n",
       "      <td>16</td>\n",
       "      <td>When We Were Kings (1996)</td>\n",
       "      <td>Documentary</td>\n",
       "    </tr>\n",
       "    <tr>\n",
       "      <th>926</th>\n",
       "      <td>4.434211</td>\n",
       "      <td>38</td>\n",
       "      <td>All About Eve (1950)</td>\n",
       "      <td>Drama</td>\n",
       "    </tr>\n",
       "    <tr>\n",
       "      <th>1217</th>\n",
       "      <td>4.423077</td>\n",
       "      <td>26</td>\n",
       "      <td>Ran (1985)</td>\n",
       "      <td>Drama|War</td>\n",
       "    </tr>\n",
       "  </tbody>\n",
       "</table>\n",
       "</div>"
      ],
      "text/plain": [
       "           rating  rating_times                                title  \\\n",
       "movieId                                                                \n",
       "1939     4.636364            11  Best Years of Our Lives, The (1946)   \n",
       "3469     4.541667            12              Inherit the Wind (1960)   \n",
       "858      4.487500           200                Godfather, The (1972)   \n",
       "318      4.487138           311     Shawshank Redemption, The (1994)   \n",
       "1948     4.458333            12                     Tom Jones (1963)   \n",
       "8132     4.454545            11                     Gladiator (1992)   \n",
       "1945     4.448276            29             On the Waterfront (1954)   \n",
       "1147     4.437500            16            When We Were Kings (1996)   \n",
       "926      4.434211            38                 All About Eve (1950)   \n",
       "1217     4.423077            26                           Ran (1985)   \n",
       "\n",
       "                           genres  \n",
       "movieId                            \n",
       "1939                    Drama|War  \n",
       "3469                        Drama  \n",
       "858                   Crime|Drama  \n",
       "318                   Crime|Drama  \n",
       "1948     Adventure|Comedy|Romance  \n",
       "8132                 Action|Drama  \n",
       "1945                  Crime|Drama  \n",
       "1147                  Documentary  \n",
       "926                         Drama  \n",
       "1217                    Drama|War  "
      ]
     },
     "execution_count": 10,
     "metadata": {},
     "output_type": "execute_result"
    }
   ],
   "source": [
    "# Review the data\n",
    "rating_final"
   ]
  },
  {
   "cell_type": "markdown",
   "metadata": {},
   "source": [
    "# Visualization"
   ]
  },
  {
   "cell_type": "code",
   "execution_count": 12,
   "metadata": {},
   "outputs": [
    {
     "data": {
      "image/png": "[encoded data removed]",
      "text/plain": [
       "<Figure size 864x576 with 1 Axes>"
      ]
     },
     "metadata": {},
     "output_type": "display_data"
    }
   ],
   "source": [
    "plt.style.use('ggplot')\n",
    "plt.figure(figsize=(12,8))\n",
    "plt.bar(x=rating_final['title'], height=rating_final['rating'])\n",
    "plt.title('Top 10 Rating Movies')\n",
    "plt.xlabel('Title')\n",
    "plt.ylabel('Mean Rating')\n",
    "plt.xticks(rotation=45, ha='right')\n",
    "plt.show()"
   ]
  },
  {
   "cell_type": "markdown",
   "metadata": {},
   "source": [
    "# Conclusion"
   ]
  },
  {
   "cell_type": "markdown",
   "metadata": {},
   "source": [
    "From the table and graph above, we can see that the highest top 10 movies mean rating are very close which ranging from 4.42 to 4.64. Even though Best Years of Our Lives, The has the highest rating, I still recommend Godfather, The and Shawshank Redemption, The. Because these two movies only have to similar rating, but also have a larger rating times which can highly prove the rating quality. Therefore, I would say the best movie in this case is Godfather, The (1972)."
   ]
  }
 ],
 "metadata": {
  "kernelspec": {
   "display_name": "Python 3",
   "language": "python",
   "name": "python3"
  },
  "language_info": {
   "codemirror_mode": {
    "name": "ipython",
    "version": 3
   },
   "file_extension": ".py",
   "mimetype": "text/x-python",
   "name": "python",
   "nbconvert_exporter": "python",
   "pygments_lexer": "ipython3",
   "version": "3.7.7"
  }
 },
 "nbformat": 4,
 "nbformat_minor": 4
}
